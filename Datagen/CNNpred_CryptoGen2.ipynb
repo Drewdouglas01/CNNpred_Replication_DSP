{
 "cells": [
  {
   "cell_type": "code",
   "execution_count": 1,
   "metadata": {},
   "outputs": [],
   "source": [
    "import yfinance as yf\n",
    "import talib\n",
    "from stockstats import StockDataFrame as Sdf\n",
    "import pickle\n",
    "import os\n",
    "import requests\n",
    "import pandas as pd"
   ]
  },
  {
   "cell_type": "code",
   "execution_count": 2,
   "metadata": {},
   "outputs": [],
   "source": [
    "from fredapi import Fred\n",
    "fred = Fred(api_key='X')"
   ]
  },
  {
   "cell_type": "markdown",
   "metadata": {},
   "source": [
    "Bitcoin  \n",
    "Ethereum   \n",
    "Litecoin  \n",
    "XRP  \n",
    "Monero  "
   ]
  },
  {
   "cell_type": "markdown",
   "metadata": {},
   "source": [
    "OHLCV Variables"
   ]
  },
  {
   "cell_type": "code",
   "execution_count": null,
   "metadata": {},
   "outputs": [],
   "source": [
    "def fetch_ohlcv_data(symbol, comparison_symbol, all_data=True, limit=2000, aggregate=1):\n",
    "    \"\"\" Fetch historical OHLCV data for a given pair of symbols. \"\"\"\n",
    "    url = \"https://min-api.cryptocompare.com/data/v2/histoday\"\n",
    "    api_key = 'your_api_key_here'  # Replace with your CryptoCompare API key\n",
    "    params = {\n",
    "        'fsym': symbol,\n",
    "        'tsym': comparison_symbol,\n",
    "        'limit': limit,\n",
    "        'aggregate': aggregate,\n",
    "        'api_key': api_key\n",
    "    }\n",
    "    if all_data:\n",
    "        params['allData'] = 'true'\n",
    "    \n",
    "    response = requests.get(url, params=params)\n",
    "    data = response.json()['Data']['Data']\n",
    "    df = pd.DataFrame(data)\n",
    "    df['time'] = pd.to_datetime(df['time'], unit='s')\n",
    "    df.set_index('time', inplace=True)\n",
    "    \n",
    "    return df"
   ]
  },
  {
   "cell_type": "code",
   "execution_count": 3,
   "metadata": {},
   "outputs": [],
   "source": [
    "INDEX = [\"BTC-USD\", \"LTC-USD\", \"BTC-USD\", \"XRP-USD\", \"BTC-USD\"]\n",
    "start_date = \"2017-11-30\"\n",
    "end_date = \"2024-03-31\"\n",
    "\n",
    "data = {}\n",
    "\n",
    "#['Open', 'High', 'Low', 'Close', 'Adj Close', 'Volume']\n",
    "for index in INDEX:\n",
    "    data[index] = yf.download(index, start=start_date, end=end_date, progress=False)"
   ]
  },
  {
   "cell_type": "markdown",
   "metadata": {},
   "source": [
    "INDICATORS\n",
    "\n",
    "*Note on last three added\n",
    "ATR (Average True Range): This indicator will add a measure of market volatility that can be very useful for risk management, particularly in adjusting stop-loss orders based on how much the stock price typically fluctuates.\n",
    "ADX (Average Directional Movement Index): Including ADX can provide a clearer picture of the trend strength. It helps distinguish between trending and non-trending conditions, complementing the MACD and RSI you already have.\n",
    "Ichimoku Cloud (Ichimoku): This is a comprehensive indicator that provides information on support and resistance levels, trend direction, momentum, and provides signals for buying and selling. It’s complex but offers a broad view of the market at a glance."
   ]
  },
  {
   "cell_type": "code",
   "execution_count": 4,
   "metadata": {},
   "outputs": [],
   "source": [
    "INDICATORS = [ #Same indicators as the ensamble\n",
    "    \"macd\",\n",
    "    \"boll_ub\",\n",
    "    \"boll_lb\",\n",
    "    \"rsi_30\",\n",
    "    \"cci_30\",\n",
    "    \"dx_30\",\n",
    "    \"close_30_sma\",\n",
    "    \"close_60_sma\",\n",
    "    'mfi', #ADDED\n",
    "    'atr_14',\n",
    "    'adx',\n",
    "    'ichimoku',\n",
    "    'supertrend_ub',\n",
    "    'supertrend_lb'\n",
    "\n",
    "]\n",
    "#\"MFI\"\n",
    "for index in INDEX:\n",
    "    for indicator in INDICATORS:\n",
    "            ind = Sdf.retype(data[index].copy())\n",
    "            data[index][indicator] = ind[indicator]"
   ]
  },
  {
   "cell_type": "markdown",
   "metadata": {},
   "source": [
    "CNNPRED"
   ]
  },
  {
   "cell_type": "code",
   "execution_count": 5,
   "metadata": {},
   "outputs": [],
   "source": [
    "for index, df in data.items():\n",
    "    # Calculate Momentum (MOM) for 1, 2, and 3 days before\n",
    "    df['mom'] = df['Close'].pct_change(periods=1)  #NOT INCLUDED IN TABLE!!!**********\n",
    "    df['mom1'] = df['mom'].shift(1)  # Shifted 1 day to get the return of 2 days ago\n",
    "    df['mom2'] = df['mom'].shift(2)  # Shifted 2 days to get the return of 3 days ago\n",
    "    df['mom3'] = df['mom'].shift(3)  # Shifted 3 days to get the return of 4 days ago\n",
    "    #df.drop('mom', axis=1)\n",
    "\n",
    "    # Calculate Rate of Change (ROC) for 5, 10, 15, and 20 days\n",
    "    df['ROC_5'] = talib.ROC(df['Close'], timeperiod=5)\n",
    "    df['ROC_10'] = talib.ROC(df['Close'], timeperiod=10)\n",
    "    df['ROC_15'] = talib.ROC(df['Close'], timeperiod=15)\n",
    "    df['ROC_20'] = talib.ROC(df['Close'], timeperiod=20)\n",
    "\n",
    "    # Calculate Exponential Moving Average (EMA) for 10, 20, 50, and 200 days\n",
    "    df['EMA_10'] = talib.EMA(df['Close'], timeperiod=10)\n",
    "    df['EMA_20'] = talib.EMA(df['Close'], timeperiod=20)\n",
    "    df['EMA_50'] = talib.EMA(df['Close'], timeperiod=50)\n",
    "    df['EMA_200'] = talib.EMA(df['Close'], timeperiod=200)"
   ]
  },
  {
   "cell_type": "markdown",
   "metadata": {},
   "source": [
    "Tech Stocks  \n",
    "Marathon Digital Holdings Inc. - MARA  \n",
    "Riot Platforms Inc. - RIOT  \n",
    "MicroStrategy Inc. - MSTR  \n",
    "Coinbase Global Inc. - COIN ---- REMOVED  \n",
    "Galaxy Digital Holdings Ltd - GLXY ---- REMOVED  \n",
    "Block Inc. - SQ  \n",
    "NVIDIA Corp. - NVDA  \n",
    "Advanced Micro Devices Inc. - AMD  \n",
    "PayPal Holdings Inc. - PYPL  \n",
    "CME Group Inc. - CME  \n",
    "  \n",
    "Added:  \n",
    "IBM Corporation (IBM)\n",
    "Intercontinental Exchange (ICE)"
   ]
  },
  {
   "cell_type": "markdown",
   "metadata": {},
   "source": [
    "MFI (Money Flow Index): As you've chosen, this will provide insight into both price changes and trading volume, helping identify overbought or oversold conditions with a volume-weighted approach.\n",
    "MACD (Moving Average Convergence Divergence): This remains a solid choice for assessing the direction and momentum of trends. MACD is helpful for spotting both trend reversals and momentum strength without incorporating volume, thus complementing the MFI's sensitivity to volume changes.\n",
    "Bollinger Bands: This indicator will add an understanding of market volatility and price levels relative to previous performance. Bollinger Bands measure market volatility by plotting standard deviations above and below a simple moving average of the price. When the bands widen, it indicates increased volatility, and when they contract, it suggests decreased volatility."
   ]
  },
  {
   "cell_type": "code",
   "execution_count": 6,
   "metadata": {},
   "outputs": [],
   "source": [
    "STOCKS = [ 'MARA', 'RIOT', 'MSTR', 'SQ', 'NVDA', 'AMD', 'PYPL', 'CME', 'IBM', 'ICE']\n",
    "INDICATORS = [\n",
    "    \"macd\",\n",
    "    \"mfi\",\n",
    "    \"boll\",\n",
    "]\n",
    "\n",
    "for index in INDEX:\n",
    "    for stock in STOCKS:\n",
    "        stock_data = yf.download(stock, start=start_date, end=end_date, progress=False)\n",
    "        for indicator in INDICATORS:\n",
    "                ind = Sdf.retype(stock_data.copy())\n",
    "                data[index][indicator + \"-\" + stock] = ind[indicator]"
   ]
  },
  {
   "cell_type": "code",
   "execution_count": 7,
   "metadata": {},
   "outputs": [],
   "source": [
    "EXCHANGE_RATES = [\n",
    "    \"EURUSD=X\",  # Euro to US Dollar\n",
    "    \"USDJPY=X\",  # US Dollar to Japanese Yen\n",
    "    \"GBPUSD=X\",  # British Pound to US Dollar\n",
    "    \"AUDUSD=X\",  # Australian Dollar to US Dollar\n",
    "    \"USDCAD=X\",  # US Dollar to Canadian Dollar\n",
    "    \"USDCHF=X\",  # US Dollar to Swiss Franc\n",
    "    \"USDSEK=X\",  # US Dollar to Swedish Krona\n",
    "    \"USDSGD=X\",  # US Dollar to Singapore Dollar\n",
    "    \"USDHKD=X\",  # US Dollar to Hong Kong Dollar\n",
    "    \"USDINR=X\"   # US Dollar to Indian Rupee\n",
    "]\n",
    "\n",
    "INDICATORS = \"macd\"\n",
    "\n",
    "for index in INDEX:\n",
    "    for exchange_rate in EXCHANGE_RATES:\n",
    "        data[index][indicator + \"-\" + exchange_rate] = yf.download(exchange_rate, start=start_date, end=end_date, progress=False)['Close']\n",
    "        data[index][indicator + \"-\" + exchange_rate + \"-\" + INDICATORS] = Sdf.retype(stock_data.copy())[INDICATORS]"
   ]
  },
  {
   "cell_type": "code",
   "execution_count": 8,
   "metadata": {},
   "outputs": [],
   "source": [
    "datasetName = \"cryptoset\"\n",
    "datasetDir = \"./Datasets\"\n",
    "\n",
    "os.makedirs(datasetDir, exist_ok=True)\n",
    "datasetPath = os.path.join(datasetDir, datasetName) + \".pkl\"\n",
    "\n",
    "\n",
    "with open(datasetPath, 'wb') as file:\n",
    "    pickle.dump(data, file)"
   ]
  }
 ],
 "metadata": {
  "kernelspec": {
   "display_name": "CNNpredRep",
   "language": "python",
   "name": "python3"
  },
  "language_info": {
   "codemirror_mode": {
    "name": "ipython",
    "version": 3
   },
   "file_extension": ".py",
   "mimetype": "text/x-python",
   "name": "python",
   "nbconvert_exporter": "python",
   "pygments_lexer": "ipython3",
   "version": "3.10.12"
  }
 },
 "nbformat": 4,
 "nbformat_minor": 2
}
